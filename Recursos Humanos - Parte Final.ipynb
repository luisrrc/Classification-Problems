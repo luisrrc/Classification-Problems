{
 "cells": [
  {
   "cell_type": "markdown",
   "metadata": {},
   "source": [
    "Se cargan las siguientes librerías:"
   ]
  },
  {
   "cell_type": "code",
   "execution_count": 1,
   "metadata": {},
   "outputs": [],
   "source": [
    "import pandas as pd\n",
    "import numpy as np\n",
    "import datetime\n",
    "import time\n",
    "import os\n",
    "import matplotlib.pyplot as plt\n",
    "%matplotlib inline\n",
    "import seaborn as sns\n",
    "%config InlineBackend.figure_format='retina'\n",
    "sns.set() # Revert to matplotlib defaults\n",
    "plt.rcParams['figure.figsize'] = (9, 6)\n",
    "plt.rcParams['axes.labelpad'] = 10\n",
    "sns.set_style(\"darkgrid\")"
   ]
  },
  {
   "cell_type": "markdown",
   "metadata": {},
   "source": [
    "Luego, se carga el archivo preprocesado del Conjunto de Datos de Recursos Humanos:"
   ]
  },
  {
   "cell_type": "code",
   "execution_count": 2,
   "metadata": {},
   "outputs": [
    {
     "data": {
      "text/plain": [
       "Index(['satisfaction_level', 'last_evaluation', 'number_project',\n",
       "       'average_montly_hours', 'time_spend_company', 'work_accident', 'left',\n",
       "       'promotion_last_5years', 'department_IT', 'department_RandD',\n",
       "       'department_accounting', 'department_hr', 'department_management',\n",
       "       'department_marketing', 'department_product_mng', 'department_sales',\n",
       "       'department_support', 'department_technical', 'salary_high',\n",
       "       'salary_low', 'salary_medium', 'first_principle_component',\n",
       "       'second_principle_component', 'third_principle_component'],\n",
       "      dtype='object')"
      ]
     },
     "execution_count": 2,
     "metadata": {},
     "output_type": "execute_result"
    }
   ],
   "source": [
    "df = pd.read_csv('C:/Users/luis_/OneDrive/Documentos/rh_datos_procesados_pca.csv')\n",
    "\n",
    "df.columns"
   ]
  },
  {
   "cell_type": "markdown",
   "metadata": {},
   "source": [
    "Se seleccionan las variables a incluir en el modelo y se ejecuta el train-test split on the data:"
   ]
  },
  {
   "cell_type": "markdown",
   "metadata": {},
   "source": [
    "### Entrenando Modelo Óptimo listo para Producción con el clasificador Random Forest"
   ]
  },
  {
   "cell_type": "code",
   "execution_count": 3,
   "metadata": {},
   "outputs": [],
   "source": [
    "from sklearn.model_selection import train_test_split\n",
    "\n",
    "features = [\n",
    "    \n",
    "    'satisfaction_level', 'last_evaluation', 'time_spend_company',\n",
    "    'number_project', 'average_montly_hours',\n",
    "    'first_principle_component',\n",
    "    'second_principle_component',\n",
    "    'third_principle_component',\n",
    "]\n",
    "\n",
    "X, X_test, y, y_test = train_test_split(df[features].values, df['left'].values, test_size = 0.15, random_state = 1)"
   ]
  },
  {
   "cell_type": "markdown",
   "metadata": {},
   "source": [
    "Se calcula una curva de validación para el RandomForestClassifier con n_estimators=50, con rango de  2 en 2 hasta 52:"
   ]
  },
  {
   "cell_type": "code",
   "execution_count": 4,
   "metadata": {},
   "outputs": [
    {
     "name": "stdout",
     "output_type": "stream",
     "text": [
      "Entrenando 25 modelos ...\n"
     ]
    }
   ],
   "source": [
    "from sklearn.ensemble import RandomForestClassifier\n",
    "from sklearn.model_selection import validation_curve\n",
    "\n",
    "clf = RandomForestClassifier(n_estimators = 50)\n",
    "\n",
    "max_depth_range = np.arange(2, 52, 2)\n",
    "\n",
    "print('Entrenando {} modelos ...'.format(len(max_depth_range)))\n",
    "\n",
    "train_scores, test_scores = validation_curve(estimator = clf, X = X, y = y, param_name = 'max_depth',\n",
    "                                             param_range = max_depth_range, cv = 5)"
   ]
  },
  {
   "cell_type": "markdown",
   "metadata": {},
   "source": [
    "Ahora, se grafica la curva de validación:"
   ]
  },
  {
   "cell_type": "code",
   "execution_count": 5,
   "metadata": {},
   "outputs": [],
   "source": [
    "# Función para trazar la curva de validación\n",
    "\n",
    "def plot_validation_curve(train_scores, test_scores, param_range, xlabel='',log=False):\n",
    "    \n",
    "    train_mean = np.mean(train_scores, axis=1)\n",
    "    train_std = np.std(train_scores, axis=1)\n",
    "    test_mean = np.mean(test_scores, axis=1)\n",
    "    test_std = np.std(test_scores, axis=1)\n",
    "\n",
    "    fig = plt.figure()\n",
    "    \n",
    "    plt.plot(param_range, train_mean, \n",
    "             color=sns.color_palette('Set1')[1], marker='o', \n",
    "             markersize=5, label='precisión de entrenamiento')\n",
    "\n",
    "    plt.fill_between(param_range, train_mean + train_std,\n",
    "                     train_mean - train_std, alpha=0.15,\n",
    "                     color=sns.color_palette('Set1')[1])\n",
    "\n",
    "    plt.plot(param_range, test_mean, \n",
    "             color=sns.color_palette('Set1')[0], linestyle='--', \n",
    "             marker='s', markersize=5, \n",
    "             label='precisión de validación')\n",
    "\n",
    "    plt.fill_between(param_range, \n",
    "                     test_mean + test_std,\n",
    "                     test_mean - test_std, \n",
    "                     alpha=0.15, color=sns.color_palette('Set1')[0])\n",
    "\n",
    "    if log:\n",
    "        plt.xscale('log')\n",
    "    \n",
    "    plt.legend(loc='lower right')\n",
    "    \n",
    "    if xlabel:\n",
    "        plt.xlabel(xlabel)\n",
    "    \n",
    "    plt.ylabel('Precisión')\n",
    "    \n",
    "    plt.ylim(0.9, 1.0)\n",
    "    \n",
    "    return fig\n",
    "    "
   ]
  },
  {
   "cell_type": "code",
   "execution_count": 6,
   "metadata": {},
   "outputs": [
    {
     "data": {
      "text/plain": [
       "(0.97, 1.0)"
      ]
     },
     "execution_count": 6,
     "metadata": {},
     "output_type": "execute_result"
    },
    {
     "data": {
      "image/png": "[encoded data removed]",
      "text/plain": [
       "<Figure size 648x432 with 1 Axes>"
      ]
     },
     "metadata": {
      "image/png": {
       "height": 385,
       "width": 575
      }
     },
     "output_type": "display_data"
    }
   ],
   "source": [
    "plot_validation_curve(train_scores, test_scores, max_depth_range, xlabel = 'max_depth')\n",
    "\n",
    "plt.ylim(0.97, 1.0)"
   ]
  },
  {
   "cell_type": "markdown",
   "metadata": {},
   "source": [
    "En este caso, para el modelo Random Forest, solo es importante establecer max_depth lo suficientemente alto para evitar un desajuste, y no deberíamos preocuparnos por el sobreajuste en valores grandes de max_depth. Dado esto, y el hecho de que la precisión de la validación parece converger alrededor de 20, seleccionaremos max_depth = 25 como el valor óptimo para este hiperparámetro."
   ]
  },
  {
   "cell_type": "markdown",
   "metadata": {},
   "source": [
    "Se define la clase personalizada para calcular k-fold cross validation class accuracies: "
   ]
  },
  {
   "cell_type": "code",
   "execution_count": 7,
   "metadata": {},
   "outputs": [],
   "source": [
    "from sklearn.model_selection import StratifiedKFold\n",
    "\n",
    "from sklearn.metrics import confusion_matrix\n",
    "\n",
    "def cross_val_class_score(clf, X, y, cv = 10):\n",
    "    \n",
    "    Kfold = (StratifiedKFold(n_splits = cv).split(X, y))\n",
    "    \n",
    "    class_accuracy = []\n",
    "    \n",
    "    for k, (train, test) in enumerate(Kfold):\n",
    "        \n",
    "        clf.fit(X[train], y[train])\n",
    "        \n",
    "        y_test = y[test]\n",
    "        \n",
    "        y_pred = clf.predict(X[test])\n",
    "        \n",
    "        cmat = confusion_matrix(y_test, y_pred)\n",
    "        \n",
    "        class_acc = cmat.diagonal() / cmat.sum(axis = 1)\n",
    "        \n",
    "        class_accuracy.append(class_acc)\n",
    "        \n",
    "        print('fold: {:d} precisión: {:s}'.format(k + 1, str(class_acc)))\n",
    "        \n",
    "    return np.array(class_accuracy)"
   ]
  },
  {
   "cell_type": "markdown",
   "metadata": {},
   "source": [
    "Se hace el cálculo de la precisión del k-fold cross validation para el modelo seleccionado en cada clase:"
   ]
  },
  {
   "cell_type": "code",
   "execution_count": 8,
   "metadata": {},
   "outputs": [
    {
     "name": "stdout",
     "output_type": "stream",
     "text": [
      "fold: 1 precisión: [0.99794027 0.94078947]\n",
      "fold: 2 precisión: [0.99897119 0.96369637]\n",
      "fold: 3 precisión: [0.99897119 0.96039604]\n",
      "fold: 4 precisión: [0.99691358 0.98349835]\n",
      "fold: 5 precisión: [0.99897119 0.96369637]\n",
      "fold: 6 precisión: [0.99794239 0.95379538]\n",
      "fold: 7 precisión: [0.99794239 0.95709571]\n",
      "fold: 8 precisión: [0.99897119 0.95379538]\n",
      "fold: 9 precisión: [0.99588477 0.94059406]\n",
      "fold: 10 precisión: [0.9969104  0.97689769]\n",
      "precisión = [0.99794186 0.95942548] +/- [0.00102912 0.01301135]\n"
     ]
    }
   ],
   "source": [
    "from sklearn.model_selection import cross_val_score\n",
    "\n",
    "clf = RandomForestClassifier(n_estimators = 50, max_depth = 25) \n",
    "\n",
    "scores = cross_val_class_score(clf, X, y)\n",
    "\n",
    "print('precisión = {} +/- {}'.format(scores.mean(axis = 0), scores.std(axis = 0)))"
   ]
  },
  {
   "cell_type": "markdown",
   "metadata": {},
   "source": [
    "Comparando este modelo con los resultados que generó el árbol de decisión entrenado en el pasado, se puede observar una mejora significativa de la precisión de cada clase, con la clase 0 aumentó de 99.5% a 99.8% y con la clase 1 aumentó de 92.2% a 95.94%."
   ]
  },
  {
   "cell_type": "markdown",
   "metadata": {},
   "source": [
    "Ahora, se evalua el desempeño de este modelo con el conjunto de prueba:"
   ]
  },
  {
   "cell_type": "code",
   "execution_count": 9,
   "metadata": {},
   "outputs": [
    {
     "data": {
      "text/plain": [
       "array([99.59064327, 97.22222222])"
      ]
     },
     "execution_count": 9,
     "metadata": {},
     "output_type": "execute_result"
    }
   ],
   "source": [
    "clf = RandomForestClassifier(n_estimators = 50, max_depth = 25)\n",
    "\n",
    "clf.fit(X, y)\n",
    "\n",
    "y_pred = clf.predict(X_test)\n",
    "\n",
    "cmat = confusion_matrix(y_test, y_pred)\n",
    "\n",
    "cmat.diagonal() / cmat.sum(axis = 1) * 100"
   ]
  },
  {
   "cell_type": "markdown",
   "metadata": {},
   "source": [
    "Comparando estos números con las precisiones del K-fold anterior, se puede observar que ambas clases se encuentran dentro del rango esperado verificando asi la efectividad de este modelo."
   ]
  },
  {
   "cell_type": "markdown",
   "metadata": {},
   "source": [
    "Se entrena el modelo con el conjunto completo de registros del DataFrame:"
   ]
  },
  {
   "cell_type": "code",
   "execution_count": 10,
   "metadata": {},
   "outputs": [
    {
     "data": {
      "text/plain": [
       "RandomForestClassifier(max_depth=25, n_estimators=50)"
      ]
     },
     "execution_count": 10,
     "metadata": {},
     "output_type": "execute_result"
    }
   ],
   "source": [
    "features = [\n",
    "    \n",
    "    'satisfaction_level', 'last_evaluation', 'time_spend_company',\n",
    "    'number_project', 'average_montly_hours',\n",
    "    'first_principle_component',\n",
    "    'second_principle_component',\n",
    "    'third_principle_component',\n",
    "]\n",
    "\n",
    "X = df[features].values\n",
    "\n",
    "y = df['left'].values\n",
    "\n",
    "clf = RandomForestClassifier(n_estimators = 50, max_depth = 25)\n",
    "\n",
    "clf.fit(X, y)"
   ]
  },
  {
   "cell_type": "markdown",
   "metadata": {},
   "source": [
    "Se procede a guardar el modelo en el disco:"
   ]
  },
  {
   "cell_type": "code",
   "execution_count": 11,
   "metadata": {},
   "outputs": [
    {
     "data": {
      "text/plain": [
       "['rh-analisis-pca-forest.pkl']"
      ]
     },
     "execution_count": 11,
     "metadata": {},
     "output_type": "execute_result"
    }
   ],
   "source": [
    "import joblib\n",
    "\n",
    "joblib.dump(clf, 'rh-analisis-pca-forest.pkl')"
   ]
  },
  {
   "cell_type": "markdown",
   "metadata": {},
   "source": [
    "Ahora, se carga el modelo:"
   ]
  },
  {
   "cell_type": "code",
   "execution_count": 12,
   "metadata": {},
   "outputs": [
    {
     "data": {
      "text/plain": [
       "RandomForestClassifier(max_depth=25, n_estimators=50)"
      ]
     },
     "execution_count": 12,
     "metadata": {},
     "output_type": "execute_result"
    }
   ],
   "source": [
    "clf = joblib.load('rh-analisis-pca-forest.pkl')\n",
    "\n",
    "clf"
   ]
  },
  {
   "cell_type": "markdown",
   "metadata": {},
   "source": [
    "Se prueba el desempeño del modelo con un empleado imaginario, María, seleccionando las features de la fila 691 del DataFrame:"
   ]
  },
  {
   "cell_type": "code",
   "execution_count": 13,
   "metadata": {},
   "outputs": [
    {
     "data": {
      "text/plain": [
       "satisfaction_level              0.420000\n",
       "last_evaluation                 0.750000\n",
       "time_spend_company              4.000000\n",
       "number_project                  3.000000\n",
       "average_montly_hours          218.000000\n",
       "first_principle_component       0.761339\n",
       "second_principle_component     -0.142059\n",
       "third_principle_component       0.083525\n",
       "Name: 691, dtype: float64"
      ]
     },
     "execution_count": 13,
     "metadata": {},
     "output_type": "execute_result"
    }
   ],
   "source": [
    "maria = df.iloc[691][features]\n",
    "\n",
    "maria"
   ]
  },
  {
   "cell_type": "markdown",
   "metadata": {},
   "source": [
    "Ahora, se predice la clase para María:"
   ]
  },
  {
   "cell_type": "code",
   "execution_count": 14,
   "metadata": {},
   "outputs": [
    {
     "data": {
      "text/plain": [
       "array([1.])"
      ]
     },
     "execution_count": 14,
     "metadata": {},
     "output_type": "execute_result"
    }
   ],
   "source": [
    "clf.predict([maria.values])"
   ]
  },
  {
   "cell_type": "markdown",
   "metadata": {},
   "source": [
    "Luego, se calcula la probabilidad asignada a esa predicción:"
   ]
  },
  {
   "cell_type": "code",
   "execution_count": 15,
   "metadata": {},
   "outputs": [
    {
     "data": {
      "text/plain": [
       "array([[0.16, 0.84]])"
      ]
     },
     "execution_count": 15,
     "metadata": {},
     "output_type": "execute_result"
    }
   ],
   "source": [
    "clf.predict_proba([maria.values])"
   ]
  },
  {
   "cell_type": "markdown",
   "metadata": {},
   "source": [
    "Este resultado indica que el modelo esta prediciendo con un 84% de probabilidad que María dejará la compañía."
   ]
  },
  {
   "cell_type": "markdown",
   "metadata": {},
   "source": [
    "Una manera de mejorar las posibilidades de que la compañía pueda retener a María como empleada, es que ellos deben reducir la cantidad de tiempo que ella necesita pasar en el trabajo. Usando el modelo se puede probar el efecto que podría tener sobre su probabilidad de irse."
   ]
  },
  {
   "cell_type": "markdown",
   "metadata": {},
   "source": [
    "Se configura average_montly_hours = 120 y time_spend_company = 2 y luego se re-evalua la probabilidad de predicción del modelo:"
   ]
  },
  {
   "cell_type": "code",
   "execution_count": 16,
   "metadata": {},
   "outputs": [
    {
     "data": {
      "text/plain": [
       "array([[0.86, 0.14]])"
      ]
     },
     "execution_count": 16,
     "metadata": {},
     "output_type": "execute_result"
    }
   ],
   "source": [
    "maria.average_montly_hours = 120\n",
    "\n",
    "maria.time_spend_company = 2\n",
    "\n",
    "clf.predict_proba([maria.values])"
   ]
  },
  {
   "cell_type": "markdown",
   "metadata": {},
   "source": [
    "Ahora, se predice la nueva clase: "
   ]
  },
  {
   "cell_type": "code",
   "execution_count": 29,
   "metadata": {},
   "outputs": [
    {
     "data": {
      "text/plain": [
       "array([0], dtype=int64)"
      ]
     },
     "execution_count": 29,
     "metadata": {},
     "output_type": "execute_result"
    }
   ],
   "source": [
    "clf.predict([maria.values])"
   ]
  },
  {
   "cell_type": "markdown",
   "metadata": {},
   "source": [
    "Este resultado sugiere que si se reduce el numero de horas al mes en el trabajo a 120 y la cantidad de tiempo en la compañía a nivel 2, existe un 86% de probabilidad que María no abandone la compañía."
   ]
  }
 ],
 "metadata": {
  "kernelspec": {
   "display_name": "Python 3",
   "language": "python",
   "name": "python3"
  },
  "language_info": {
   "codemirror_mode": {
    "name": "ipython",
    "version": 3
   },
   "file_extension": ".py",
   "mimetype": "text/x-python",
   "name": "python",
   "nbconvert_exporter": "python",
   "pygments_lexer": "ipython3",
   "version": "3.8.3"
  }
 },
 "nbformat": 4,
 "nbformat_minor": 4
}
